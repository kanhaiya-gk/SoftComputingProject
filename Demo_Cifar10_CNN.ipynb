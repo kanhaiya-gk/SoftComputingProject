{
  "cells": [
    {
      "cell_type": "code",
      "execution_count": 1,
      "metadata": {
        "id": "k3cc0qWKB_N2"
      },
      "outputs": [
        {
          "name": "stderr",
          "output_type": "stream",
          "text": [
            "Using TensorFlow backend.\n"
          ]
        }
      ],
      "source": [
        "from keras import datasets\n",
        "\n",
        "(x_train, y_train), (x_test, y_test) = datasets.cifar10.load_data()"
      ]
    },
    {
      "cell_type": "code",
      "execution_count": 2,
      "metadata": {
        "colab": {
          "base_uri": "https://localhost:8080/"
        },
        "id": "p5frDm6qmcvR",
        "outputId": "b678489b-c36a-4412-80dd-1be6d3481613"
      },
      "outputs": [
        {
          "data": {
            "text/plain": [
              "((50000, 32, 32, 3), (50000, 1))"
            ]
          },
          "execution_count": 2,
          "metadata": {},
          "output_type": "execute_result"
        }
      ],
      "source": [
        "x_train.shape, y_train.shape"
      ]
    },
    {
      "cell_type": "code",
      "execution_count": 3,
      "metadata": {
        "colab": {
          "base_uri": "https://localhost:8080/"
        },
        "id": "Sa8UM_6RmiQb",
        "outputId": "f4582350-f837-40c3-f5a5-93d75af25f3f"
      },
      "outputs": [
        {
          "data": {
            "text/plain": [
              "((10000, 32, 32, 3), (10000, 1))"
            ]
          },
          "execution_count": 3,
          "metadata": {},
          "output_type": "execute_result"
        }
      ],
      "source": [
        "x_test.shape, y_test.shape"
      ]
    },
    {
      "cell_type": "code",
      "execution_count": 4,
      "metadata": {
        "colab": {
          "base_uri": "https://localhost:8080/",
          "height": 283
        },
        "id": "-hPTZwjSmov2",
        "outputId": "1b5ac56c-c1bf-4880-fed0-f36dc2a3a833"
      },
      "outputs": [
        {
          "name": "stdout",
          "output_type": "stream",
          "text": [
            "Class:  [9]\n"
          ]
        },
        {
          "data": {
            "image/png": "[encoded data removed]",
            "text/plain": [
              "<Figure size 432x288 with 1 Axes>"
            ]
          },
          "metadata": {
            "needs_background": "light"
          },
          "output_type": "display_data"
        }
      ],
      "source": [
        "import matplotlib.pyplot as plt \n",
        "plt.imshow(x_train[1])\n",
        "print(\"Class: \", y_train[1])"
      ]
    },
    {
      "cell_type": "markdown",
      "metadata": {
        "id": "tETnStdnoEt0"
      },
      "source": [
        "Cifar10 classes:\n",
        "\n",
        "0: airplane\t\t\t\t\t\t\t\t\t\t\n",
        "1: automobile\t\t\t\t\t\t\t\t\t\t\n",
        "2: bird\t\t\t\t\t\t\t\t\t\t\n",
        "3: cat\t\t\t\t\t\t\t\t\t\t\n",
        "4: deer\t\t\t\t\t\t\t\t\t\t\n",
        "5: dog\t\t\t\t\t\t\t\t\t\t\n",
        "6: frog\t\t\t\t\t\t\t\t\t\t\n",
        "7: horse\t\t\t\t\t\t\t\t\t\t\n",
        "8: ship\t\t\t\t\t\t\t\t\t\t\n",
        "9: truck"
      ]
    },
    {
      "cell_type": "code",
      "execution_count": 5,
      "metadata": {
        "colab": {
          "base_uri": "https://localhost:8080/"
        },
        "id": "MOziRWxWm_xl",
        "outputId": "ebc8b9fc-efe9-47b5-8d24-15c40cb2e38c"
      },
      "outputs": [
        {
          "data": {
            "text/plain": [
              "array([0, 1, 2, 3, 4, 5, 6, 7, 8, 9], dtype=uint8)"
            ]
          },
          "execution_count": 5,
          "metadata": {},
          "output_type": "execute_result"
        }
      ],
      "source": [
        "import numpy as np\n",
        "np.unique(y_train)"
      ]
    },
    {
      "cell_type": "code",
      "execution_count": 15,
      "metadata": {
        "id": "-NPNPsNtoYEO"
      },
      "outputs": [],
      "source": [
        "from keras import models\n",
        "from keras import layers\n",
        "\n",
        "model = models.Sequential()\n",
        "model.add(layers.Conv2D(16, (3,3), input_shape=(32,32,3), activation = \"relu\"))\n",
        "model.add(layers.BatchNormalization())\n",
        "model.add(layers.Conv2D(16, (3,3), activation = \"relu\"))\n",
        "model.add(layers.BatchNormalization())\n",
        "model.add(layers.MaxPooling2D(2,2))\n",
        "model.add(layers.Conv2D(32, (3,3), activation = \"relu\"))\n",
        "model.add(layers.BatchNormalization())\n",
        "model.add(layers.Conv2D(32, (3,3), activation = \"relu\"))\n",
        "model.add(layers.BatchNormalization())\n",
        "model.add(layers.MaxPooling2D(2,2))\n",
        "model.add(layers.Conv2D(32, (3,3), activation = \"relu\"))\n",
        "model.add(layers.BatchNormalization())\n",
        "model.add(layers.MaxPooling2D(2,2))\n",
        "model.add(layers.Flatten())\n",
        "model.add(layers.Dropout(0.2))\n",
        "model.add(layers.Dense(64, activation=\"relu\"))\n",
        "model.add(layers.Dropout(0.2))\n",
        "model.add(layers.Dense(10, activation=\"softmax\"))"
      ]
    },
    {
      "cell_type": "code",
      "execution_count": 16,
      "metadata": {
        "colab": {
          "base_uri": "https://localhost:8080/"
        },
        "id": "qRDL8K4DtZdo",
        "outputId": "6f8434f7-2b8e-4c1a-c26b-f9cbd8328726"
      },
      "outputs": [
        {
          "name": "stdout",
          "output_type": "stream",
          "text": [
            "Model: \"sequential_2\"\n",
            "_________________________________________________________________\n",
            "Layer (type)                 Output Shape              Param #   \n",
            "=================================================================\n",
            "conv2d_10 (Conv2D)           (None, 30, 30, 16)        448       \n",
            "_________________________________________________________________\n",
            "batch_normalization_10 (Batc (None, 30, 30, 16)        64        \n",
            "_________________________________________________________________\n",
            "conv2d_11 (Conv2D)           (None, 28, 28, 16)        2320      \n",
            "_________________________________________________________________\n",
            "batch_normalization_11 (Batc (None, 28, 28, 16)        64        \n",
            "_________________________________________________________________\n",
            "max_pooling2d_6 (MaxPooling2 (None, 14, 14, 16)        0         \n",
            "_________________________________________________________________\n",
            "conv2d_12 (Conv2D)           (None, 12, 12, 32)        4640      \n",
            "_________________________________________________________________\n",
            "batch_normalization_12 (Batc (None, 12, 12, 32)        128       \n",
            "_________________________________________________________________\n",
            "conv2d_13 (Conv2D)           (None, 10, 10, 32)        9248      \n",
            "_________________________________________________________________\n",
            "batch_normalization_13 (Batc (None, 10, 10, 32)        128       \n",
            "_________________________________________________________________\n",
            "max_pooling2d_7 (MaxPooling2 (None, 5, 5, 32)          0         \n",
            "_________________________________________________________________\n",
            "conv2d_14 (Conv2D)           (None, 3, 3, 32)          9248      \n",
            "_________________________________________________________________\n",
            "batch_normalization_14 (Batc (None, 3, 3, 32)          128       \n",
            "_________________________________________________________________\n",
            "max_pooling2d_8 (MaxPooling2 (None, 1, 1, 32)          0         \n",
            "_________________________________________________________________\n",
            "flatten_2 (Flatten)          (None, 32)                0         \n",
            "_________________________________________________________________\n",
            "dropout_4 (Dropout)          (None, 32)                0         \n",
            "_________________________________________________________________\n",
            "dense_4 (Dense)              (None, 64)                2112      \n",
            "_________________________________________________________________\n",
            "dropout_5 (Dropout)          (None, 64)                0         \n",
            "_________________________________________________________________\n",
            "dense_5 (Dense)              (None, 10)                650       \n",
            "=================================================================\n",
            "Total params: 29,178\n",
            "Trainable params: 28,922\n",
            "Non-trainable params: 256\n",
            "_________________________________________________________________\n"
          ]
        }
      ],
      "source": [
        "model.summary()"
      ]
    },
    {
      "cell_type": "code",
      "execution_count": 17,
      "metadata": {
        "id": "2iIuGLoJukvK"
      },
      "outputs": [],
      "source": [
        "train_images =x_train.astype('float32')/255\n",
        "test_images=x_test.astype('float32')/255"
      ]
    },
    {
      "cell_type": "code",
      "execution_count": 18,
      "metadata": {
        "id": "95alXh1Itbeh"
      },
      "outputs": [],
      "source": [
        "from keras.utils.np_utils import to_categorical\n",
        "\n",
        "train_labels=to_categorical(y_train)\n",
        "test_labels=to_categorical(y_test)"
      ]
    },
    {
      "cell_type": "code",
      "execution_count": 19,
      "metadata": {
        "id": "Muq41Hb_u3ei"
      },
      "outputs": [],
      "source": [
        "val_images=train_images[:10000]\n",
        "partial_images=train_images[10000:]\n",
        "\n",
        "val_labels=train_labels[:10000]\n",
        "partial_labels=train_labels[10000:]"
      ]
    },
    {
      "cell_type": "code",
      "execution_count": 20,
      "metadata": {
        "id": "VrkDfmu2vLB1"
      },
      "outputs": [],
      "source": [
        "from keras import optimizers\n",
        "model.compile(loss=\"categorical_crossentropy\",optimizer=optimizers.Adam(0.01),metrics=[\"accuracy\"])"
      ]
    },
    {
      "cell_type": "code",
      "execution_count": 21,
      "metadata": {
        "id": "u4AOovMIvvIn"
      },
      "outputs": [],
      "source": [
        "from tensorflow.keras.callbacks import EarlyStopping\n",
        "es = EarlyStopping(monitor= \"val_accuracy\", patience = 7)"
      ]
    },
    {
      "cell_type": "code",
      "execution_count": 22,
      "metadata": {
        "colab": {
          "base_uri": "https://localhost:8080/"
        },
        "id": "R7rcvi7wvX_R",
        "outputId": "b79e675f-665d-434e-bbc7-4109b33b0071"
      },
      "outputs": [
        {
          "name": "stdout",
          "output_type": "stream",
          "text": [
            "Epoch 1/60\n",
            "1250/1250 [==============================] - 45s 36ms/step - loss: 1.7400 - accuracy: 0.3596 - val_loss: 1.6514 - val_accuracy: 0.4093\n",
            "Epoch 2/60\n",
            "1250/1250 [==============================] - 55s 44ms/step - loss: 1.4091 - accuracy: 0.4961 - val_loss: 1.2901 - val_accuracy: 0.5370\n",
            "Epoch 3/60\n",
            "1250/1250 [==============================] - 55s 44ms/step - loss: 1.2771 - accuracy: 0.5508 - val_loss: 1.2294 - val_accuracy: 0.5618\n",
            "Epoch 4/60\n",
            "1250/1250 [==============================] - 56s 45ms/step - loss: 1.1976 - accuracy: 0.5813 - val_loss: 1.2241 - val_accuracy: 0.5820\n",
            "Epoch 5/60\n",
            "1250/1250 [==============================] - 56s 44ms/step - loss: 1.1397 - accuracy: 0.6038 - val_loss: 1.2831 - val_accuracy: 0.5652\n",
            "Epoch 6/60\n",
            "1250/1250 [==============================] - 56s 45ms/step - loss: 1.0939 - accuracy: 0.6217 - val_loss: 1.1316 - val_accuracy: 0.6131\n",
            "Epoch 7/60\n",
            "1250/1250 [==============================] - 57s 45ms/step - loss: 1.0544 - accuracy: 0.6369 - val_loss: 1.1780 - val_accuracy: 0.6055\n",
            "Epoch 8/60\n",
            "1250/1250 [==============================] - 57s 45ms/step - loss: 1.0293 - accuracy: 0.6445 - val_loss: 1.0521 - val_accuracy: 0.6349\n",
            "Epoch 9/60\n",
            "1250/1250 [==============================] - 57s 45ms/step - loss: 1.0074 - accuracy: 0.6549 - val_loss: 1.0923 - val_accuracy: 0.6272\n",
            "Epoch 10/60\n",
            "1250/1250 [==============================] - 57s 46ms/step - loss: 0.9891 - accuracy: 0.6587 - val_loss: 1.0064 - val_accuracy: 0.6536\n",
            "Epoch 11/60\n",
            "1250/1250 [==============================] - 57s 46ms/step - loss: 0.9651 - accuracy: 0.6697 - val_loss: 1.0660 - val_accuracy: 0.6399\n",
            "Epoch 12/60\n",
            "1250/1250 [==============================] - 58s 46ms/step - loss: 0.9509 - accuracy: 0.6732 - val_loss: 0.9351 - val_accuracy: 0.6715\n",
            "Epoch 13/60\n",
            "1250/1250 [==============================] - 58s 46ms/step - loss: 0.9293 - accuracy: 0.6827 - val_loss: 0.9513 - val_accuracy: 0.6774\n",
            "Epoch 14/60\n",
            "1250/1250 [==============================] - 59s 47ms/step - loss: 0.9165 - accuracy: 0.6838 - val_loss: 0.9764 - val_accuracy: 0.6707\n",
            "Epoch 15/60\n",
            "1250/1250 [==============================] - 58s 46ms/step - loss: 0.9092 - accuracy: 0.6885 - val_loss: 0.9430 - val_accuracy: 0.6717\n",
            "Epoch 16/60\n",
            "1250/1250 [==============================] - 57s 46ms/step - loss: 0.9042 - accuracy: 0.6931 - val_loss: 1.0010 - val_accuracy: 0.6631\n",
            "Epoch 17/60\n",
            "1250/1250 [==============================] - 57s 46ms/step - loss: 0.8896 - accuracy: 0.6942 - val_loss: 0.9214 - val_accuracy: 0.6884\n",
            "Epoch 18/60\n",
            "1250/1250 [==============================] - 32s 25ms/step - loss: 0.8719 - accuracy: 0.7025 - val_loss: 0.9414 - val_accuracy: 0.6760\n",
            "Epoch 19/60\n",
            "1250/1250 [==============================] - 23s 19ms/step - loss: 0.8705 - accuracy: 0.7017 - val_loss: 0.9824 - val_accuracy: 0.6676\n",
            "Epoch 20/60\n",
            "1250/1250 [==============================] - 23s 19ms/step - loss: 0.8576 - accuracy: 0.7091 - val_loss: 0.9670 - val_accuracy: 0.6783\n",
            "Epoch 21/60\n",
            "1250/1250 [==============================] - 23s 19ms/step - loss: 0.8475 - accuracy: 0.7106 - val_loss: 0.9097 - val_accuracy: 0.6871\n",
            "Epoch 22/60\n",
            "1250/1250 [==============================] - 23s 18ms/step - loss: 0.8361 - accuracy: 0.7143 - val_loss: 0.9106 - val_accuracy: 0.6914\n",
            "Epoch 23/60\n",
            "1250/1250 [==============================] - 23s 19ms/step - loss: 0.8305 - accuracy: 0.7220 - val_loss: 0.9327 - val_accuracy: 0.6777\n",
            "Epoch 24/60\n",
            "1250/1250 [==============================] - 24s 19ms/step - loss: 0.8215 - accuracy: 0.7183 - val_loss: 0.9456 - val_accuracy: 0.6845\n",
            "Epoch 25/60\n",
            "1250/1250 [==============================] - 24s 19ms/step - loss: 0.8181 - accuracy: 0.7215 - val_loss: 0.9785 - val_accuracy: 0.6718\n",
            "Epoch 26/60\n",
            "1250/1250 [==============================] - 24s 19ms/step - loss: 0.8062 - accuracy: 0.7258 - val_loss: 0.9434 - val_accuracy: 0.6837\n",
            "Epoch 27/60\n",
            "1250/1250 [==============================] - 24s 19ms/step - loss: 0.8056 - accuracy: 0.7250 - val_loss: 0.9044 - val_accuracy: 0.6894\n",
            "Epoch 28/60\n",
            "1250/1250 [==============================] - 24s 19ms/step - loss: 0.7993 - accuracy: 0.7276 - val_loss: 0.9518 - val_accuracy: 0.6852\n",
            "Epoch 29/60\n",
            "1250/1250 [==============================] - 24s 19ms/step - loss: 0.7967 - accuracy: 0.7306 - val_loss: 0.9497 - val_accuracy: 0.6758\n"
          ]
        }
      ],
      "source": [
        "history = model.fit(partial_images, partial_labels, validation_data=(val_images,val_labels), epochs=60, callbacks=[es])"
      ]
    },
    {
      "cell_type": "code",
      "execution_count": 23,
      "metadata": {
        "colab": {
          "base_uri": "https://localhost:8080/"
        },
        "id": "8fwNxmb-wUcJ",
        "outputId": "845473d2-e120-4691-a704-7eb5335d4ff7"
      },
      "outputs": [
        {
          "name": "stdout",
          "output_type": "stream",
          "text": [
            "313/313 [==============================] - 2s 6ms/step - loss: 0.9603 - accuracy: 0.6823\n"
          ]
        }
      ],
      "source": [
        "metrics = model.evaluate(test_images, test_labels)"
      ]
    },
    {
      "cell_type": "code",
      "execution_count": 24,
      "metadata": {
        "colab": {
          "base_uri": "https://localhost:8080/"
        },
        "id": "_O7BRVGAym76",
        "outputId": "520b826d-bbec-4bfe-b1db-7c8eeb5bae5a"
      },
      "outputs": [
        {
          "name": "stdout",
          "output_type": "stream",
          "text": [
            "Loss:  0.9602970480918884\n",
            "Accuracy:  0.6822999715805054\n"
          ]
        }
      ],
      "source": [
        "print(\"Loss: \", metrics[0])\n",
        "print(\"Accuracy: \",metrics[1])"
      ]
    },
    {
      "cell_type": "code",
      "execution_count": null,
      "metadata": {
        "id": "vrcV6PVtzSs6"
      },
      "outputs": [],
      "source": []
    }
  ],
  "metadata": {
    "accelerator": "GPU",
    "colab": {
      "name": "Cifar10-CNN.ipynb",
      "provenance": []
    },
    "kernelspec": {
      "display_name": "Python 3",
      "name": "python3"
    },
    "language_info": {
      "codemirror_mode": {
        "name": "ipython",
        "version": 3
      },
      "file_extension": ".py",
      "mimetype": "text/x-python",
      "name": "python",
      "nbconvert_exporter": "python",
      "pygments_lexer": "ipython3",
      "version": "3.8.5"
    }
  },
  "nbformat": 4,
  "nbformat_minor": 0
}
